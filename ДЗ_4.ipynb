{
  "nbformat": 4,
  "nbformat_minor": 0,
  "metadata": {
    "colab": {
      "provenance": [],
      "authorship_tag": "ABX9TyOXVhrQAduTCbfT1eaev02K",
      "include_colab_link": true
    },
    "kernelspec": {
      "name": "python3",
      "display_name": "Python 3"
    },
    "language_info": {
      "name": "python"
    }
  },
  "cells": [
    {
      "cell_type": "markdown",
      "metadata": {
        "id": "view-in-github",
        "colab_type": "text"
      },
      "source": [
        "<a href=\"https://colab.research.google.com/github/irinairk24/-4/blob/main/%D0%94%D0%97_4.ipynb\" target=\"_parent\"><img src=\"https://colab.research.google.com/assets/colab-badge.svg\" alt=\"Open In Colab\"/></a>"
      ]
    },
    {
      "cell_type": "code",
      "execution_count": null,
      "metadata": {
        "colab": {
          "base_uri": "https://localhost:8080/"
        },
        "id": "n40v4eyeY5Ue",
        "outputId": "3be3ebfc-d125-4a37-e492-4eb56b4e37be"
      },
      "outputs": [
        {
          "output_type": "stream",
          "name": "stdout",
          "text": [
            "Введите команду:p\n",
            "Введите номер документа:10006\n",
            "Владелец документа: Аристарх Павлов\n"
          ]
        }
      ],
      "source": [
        "documents = [\n",
        "{'type': 'passport', 'number': '2207 876234', 'name': 'Василий Гупкин'},\n",
        "{'type': 'invoice', 'number': '11-2', 'name': 'Геннадий Покемонов'},\n",
        "{'type': 'insurance', 'number': '10006', 'name': 'Аристарх Павлов'}\n",
        "]\n",
        "directories = {\n",
        "'1': ['2207 876234', '11-2'],\n",
        "'2': ['10006'],\n",
        "'3': []\n",
        "}\n",
        "def user_interface():\n",
        "  while True:\n",
        "    request = input(\"Введите команду:\")\n",
        "    if request == 'p':\n",
        "       number_of_document = input(\"Введите номер документа:\")\n",
        "       for i in documents:\n",
        "         if i[\"number\"] == number_of_document:\n",
        "           print(\"Владелец документа:\",i[\"name\"])\n",
        "    elif request == 'q':\n",
        "     break\n",
        "user_interface()"
      ]
    },
    {
      "cell_type": "code",
      "source": [],
      "metadata": {
        "id": "SJ7r0V6fZHcT"
      },
      "execution_count": null,
      "outputs": []
    }
  ]
}